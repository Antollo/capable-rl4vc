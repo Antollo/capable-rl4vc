{
 "cells": [
  {
   "cell_type": "code",
   "execution_count": 1,
   "id": "4f84086f",
   "metadata": {},
   "outputs": [],
   "source": [
    "\n",
    "import numpy as np\n",
    "from agent.dql import Agent\n",
    "from environment.fogg_behavioural_model import Patient \n",
    "import matplotlib.pyplot as plt\n",
    "from multiprocessing import Process, Pipe"
   ]
  },
  {
   "cell_type": "code",
   "execution_count": 2,
   "id": "752b7735",
   "metadata": {},
   "outputs": [],
   "source": [
    "import pickle\n",
    "import cloudpickle\n",
    "\n",
    "class CloudpickleWrapper(object):\n",
    "\tdef __init__(self, x):\n",
    "\t\tself.x = x\n",
    "\n",
    "\tdef __getstate__(self):\n",
    "\t\treturn cloudpickle.dumps(self.x)\n",
    "\n",
    "\tdef __setstate__(self, ob):\n",
    "\t\tself.x = pickle.loads(ob)\n",
    "\t\n",
    "\tdef __call__(self):\n",
    "\t\treturn self.x()"
   ]
  },
  {
   "cell_type": "code",
   "execution_count": 3,
   "id": "42f5fc71",
   "metadata": {},
   "outputs": [],
   "source": [
    "import numpy as np\n",
    "\n",
    "class SubprocVecEnv():\n",
    "\tdef __init__(self, env_fns):\n",
    "\t\tself.waiting = False\n",
    "\t\tself.closed = False\n",
    "\t\tno_of_envs = len(env_fns)\n",
    "\t\tself.remotes, self.work_remotes = \\\n",
    "\t\t\tzip(*[Pipe() for _ in range(no_of_envs)])\n",
    "\t\tself.ps = []\n",
    "\t\t\n",
    "\t\tfor wrk, rem, fn in zip(self.work_remotes, self.remotes, env_fns):\n",
    "\t\t\tproc = Process(target = worker, \n",
    "\t\t\t\targs = (wrk, rem, CloudpickleWrapper(fn)))\n",
    "\t\t\tself.ps.append(proc)\n",
    "\n",
    "\t\tfor p in self.ps:\n",
    "\t\t\tp.daemon = True\n",
    "\t\t\tp.start()\n",
    "\n",
    "\t\tfor remote in self.work_remotes:\n",
    "\t\t\tremote.close()\n",
    "\t\n",
    "\tdef step_async(self, actions):\n",
    "\t\tif self.waiting:\n",
    "\t\t\traise AlreadySteppingError\n",
    "\t\tself.waiting = True\n",
    "\n",
    "\t\tfor remote, action in zip(self.remotes, actions):\n",
    "\t\t\tremote.send(('step', action))\n",
    "\t\n",
    "\tdef step_wait(self):\n",
    "\t\tif not self.waiting:\n",
    "\t\t\traise NotSteppingError\n",
    "\t\tself.waiting = False\n",
    "\n",
    "\t\tresults = [remote.recv() for remote in self.remotes]\n",
    "\t\tobs, rews, dones, infos = zip(*results)\n",
    "\t\treturn np.stack(obs), np.stack(rews), np.stack(dones), info\n",
    "\t\n",
    "\tdef step(self, actions):\n",
    "\t\tself.step_async(actions)\n",
    "\t\treturn self.step_wait()\n",
    "\t\n",
    "\tdef reset(self):\n",
    "\t\tfor remote in self.remotes:\n",
    "\t\t\tremote.send(('reset', None))\n",
    "\n",
    "\t\treturn np.stack([remote.recv() for remote in self.remotes])\n",
    "\t\n",
    "\tdef close(self):\n",
    "\t\tif self.closed:\n",
    "\t\t\treturn\n",
    "\t\tif self.waiting:\n",
    "\t\t\tfor remote in self.remotes:\n",
    "\t\t\t\tremote.recv()\n",
    "\t\tfor remote in self.remotes:\n",
    "\t\t\tremote.send(('close', None))\n",
    "\t\tfor p in self.ps:\n",
    "\t\t\tp.join()\n",
    "\t\tself.closed = True"
   ]
  },
  {
   "cell_type": "code",
   "execution_count": 4,
   "id": "9b5dfe93",
   "metadata": {},
   "outputs": [],
   "source": [
    "def worker(remote, parent_remote, env_fn):\n",
    "\tparent_remote.close()\n",
    "\tenv = env_fn()\n",
    "\twhile True:\n",
    "\t\tcmd, data = remote.recv()\n",
    "\t\t\n",
    "\t\tif cmd == 'step':\n",
    "\t\t\tob, reward, done, info = env.step(data)\n",
    "\t\t\tif done:\n",
    "\t\t\t\tob = env.reset()\n",
    "\t\t\tremote.send((ob, reward, done, info))\n",
    "\n",
    "\t\telif cmd == 'render':\n",
    "\t\t\tremote.send(env.render())\n",
    "\n",
    "\t\telif cmd == 'close':\n",
    "\t\t\tremote.close()\n",
    "\t\t\tbreak\n",
    "\n",
    "\t\telse:\n",
    "\t\t\traise NotImplentedError"
   ]
  },
  {
   "cell_type": "code",
   "execution_count": 5,
   "id": "48f57cb9",
   "metadata": {},
   "outputs": [],
   "source": [
    "def make_mp_envs(env_id, num_env, seed, start_idx = 0):\n",
    "\tdef make_env(rank):\n",
    "\t\tdef fn():\n",
    "\t\t\tenv = gym.make(env_id)\n",
    "\t\t\tenv.seed(seed + rank)\n",
    "\t\t\treturn env\n",
    "\t\treturn fn\n",
    "\treturn SubprocVecEnv([make_env(i + start_idx) for i in range(num_env)])"
   ]
  },
  {
   "cell_type": "code",
   "execution_count": 6,
   "id": "1aa464a9",
   "metadata": {},
   "outputs": [],
   "source": [
    "env1 = Patient()\n",
    "env_info1 = {'behaviour_threshold': 20, 'has_family':True}\n",
    "env1.env_init(env_info1)"
   ]
  },
  {
   "cell_type": "code",
   "execution_count": 7,
   "id": "5720f8f2",
   "metadata": {},
   "outputs": [],
   "source": [
    "env2 = Patient()\n",
    "env_info2 = {'behaviour_threshold': 20, 'has_family':False}\n",
    "env2.env_init(env_info2)"
   ]
  },
  {
   "cell_type": "code",
   "execution_count": 8,
   "id": "e17f6fd8",
   "metadata": {},
   "outputs": [],
   "source": [
    "env = SubprocVecEnv([env1, env2])"
   ]
  },
  {
   "cell_type": "code",
   "execution_count": null,
   "id": "cf519ce1",
   "metadata": {
    "tags": []
   },
   "outputs": [],
   "source": [
    "msh = []\n",
    "x = []\n",
    "y = []\n",
    "eps_hist = []\n",
    "for run in range(0, 1):\n",
    "#     env = Patient()\n",
    "#     env_info = {'behaviour_threshold': 20, 'has_family':True}\n",
    "#     env.env_init(env_info)\n",
    "    agent = Agent(gamma = 0.99, epsilon=1.0, alpha = 0.005, input_dims = 13, n_actions= 2, mem_size= 100000, batch_size=32, epsilon_end = 0.01)\n",
    "    observation = env.reset()\n",
    "    done = False\n",
    "    score_history = []\n",
    "    for j in range(0,90): # 3 months\n",
    "\n",
    "        score = 0\n",
    "        for i in range(0, 24):\n",
    "            action = agent.choose_action(observation)\n",
    "            reward, observation_,  info = env.step(action)\n",
    "            agent.remember(observation, action, reward, observation_, done)\n",
    "            \n",
    "            x.append(observation)\n",
    "            if reward == 10:\n",
    "                y.append(1)\n",
    "            else:\n",
    "                y.append(0)\n",
    "                \n",
    "            score += reward\n",
    "            observation = observation_\n",
    "            agent.learn()\n",
    "\n",
    "        score_history.append(score)\n",
    "        eps_hist.append(agent.epsilon)\n",
    "        avg_score = np.mean(score_history[-10:])\n",
    "        print(score, avg_score)\n",
    "    agent.save_model(run)\n",
    "    msh.append(score_history)\n",
    "  "
   ]
  },
  {
   "cell_type": "code",
   "execution_count": 8,
   "id": "4b78a3fd",
   "metadata": {},
   "outputs": [
    {
     "data": {
      "text/plain": [
       "9"
      ]
     },
     "execution_count": 8,
     "metadata": {},
     "output_type": "execute_result"
    }
   ],
   "source": [
    "len(msh)"
   ]
  },
  {
   "cell_type": "code",
   "execution_count": 9,
   "id": "f68b2564",
   "metadata": {},
   "outputs": [
    {
     "data": {
      "text/plain": [
       "[<matplotlib.lines.Line2D at 0x1d9641ffdc0>]"
      ]
     },
     "execution_count": 9,
     "metadata": {},
     "output_type": "execute_result"
    },
    {
     "data": {
      "image/png": "[encoded data removed]",
      "text/plain": [
       "<Figure size 432x288 with 1 Axes>"
      ]
     },
     "metadata": {
      "needs_background": "light"
     },
     "output_type": "display_data"
    }
   ],
   "source": [
    "plt.plot(np.mean(msh, axis=0))"
   ]
  },
  {
   "cell_type": "code",
   "execution_count": null,
   "id": "18e11ddd",
   "metadata": {},
   "outputs": [],
   "source": []
  }
 ],
 "metadata": {
  "kernelspec": {
   "display_name": "Python 3",
   "language": "python",
   "name": "python3"
  },
  "language_info": {
   "codemirror_mode": {
    "name": "ipython",
    "version": 3
   },
   "file_extension": ".py",
   "mimetype": "text/x-python",
   "name": "python",
   "nbconvert_exporter": "python",
   "pygments_lexer": "ipython3",
   "version": "3.8.8"
  }
 },
 "nbformat": 4,
 "nbformat_minor": 5
}
