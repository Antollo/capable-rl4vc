{
 "cells": [
  {
   "cell_type": "code",
   "execution_count": 30,
   "id": "1af97ec3",
   "metadata": {},
   "outputs": [],
   "source": [
    "import numpy as np\n",
    "import random\n",
    "import matplotlib.pyplot as plt"
   ]
  },
  {
   "cell_type": "code",
   "execution_count": 31,
   "id": "53c9c7d3",
   "metadata": {},
   "outputs": [],
   "source": [
    "from environment.fogg_behavioural_model import Patient "
   ]
  },
  {
   "cell_type": "markdown",
   "id": "80ee62e0",
   "metadata": {},
   "source": [
    "Basic enviroment where the patients emotional state and sleep pattern remains unchanged by the prompts.\n",
    "Here we are intenting just to figure out when prompt is effective and learn optimal difficulty of activity. "
   ]
  },
  {
   "cell_type": "code",
   "execution_count": 32,
   "id": "f82a79ed",
   "metadata": {},
   "outputs": [],
   "source": [
    "testPatient = Patient(20, True)"
   ]
  },
  {
   "cell_type": "code",
   "execution_count": 33,
   "id": "a01c976d",
   "metadata": {},
   "outputs": [
    {
     "data": {
      "text/plain": [
       "1"
      ]
     },
     "execution_count": 33,
     "metadata": {},
     "output_type": "execute_result"
    }
   ],
   "source": [
    "testPatient.get_ability(1,1)"
   ]
  },
  {
   "cell_type": "markdown",
   "id": "7d3237fd",
   "metadata": {},
   "source": [
    "If patient performed activity once dayily and otherwise was not incorrectly notified the total reward in a day would be:\n",
    "\n",
    "    - 10 for correct behaviour\n",
    "    - and 23 * 0.1 for correct restrain from notification"
   ]
  },
  {
   "cell_type": "code",
   "execution_count": 34,
   "id": "96790617",
   "metadata": {},
   "outputs": [],
   "source": [
    "DAyilyGoodReward = 10 + 23 * 0.1 "
   ]
  },
  {
   "cell_type": "code",
   "execution_count": 35,
   "id": "6909a79e",
   "metadata": {},
   "outputs": [
    {
     "data": {
      "text/plain": [
       "12.3"
      ]
     },
     "execution_count": 35,
     "metadata": {},
     "output_type": "execute_result"
    }
   ],
   "source": [
    "DAyilyGoodReward"
   ]
  },
  {
   "cell_type": "code",
   "execution_count": 36,
   "id": "61e3d477",
   "metadata": {},
   "outputs": [
    {
     "data": {
      "text/plain": [
       "381.3"
      ]
     },
     "execution_count": 36,
     "metadata": {},
     "output_type": "execute_result"
    }
   ],
   "source": [
    "DAyilyGoodReward * 31"
   ]
  },
  {
   "cell_type": "markdown",
   "id": "842bb520",
   "metadata": {},
   "source": [
    "# Random"
   ]
  },
  {
   "cell_type": "code",
   "execution_count": 37,
   "id": "b7cae10f",
   "metadata": {},
   "outputs": [
    {
     "name": "stdout",
     "output_type": "stream",
     "text": [
      "Hours:744 Reward after a month:-209.40000000000106\n"
     ]
    }
   ],
   "source": [
    "hours = 24 * 31\n",
    "total_reward = 0\n",
    "for episode in range(1, hours+1):\n",
    "#     state = testPatient.reset()\n",
    "    \n",
    "    prompt = random.choice([0,1])\n",
    "    activity_difficulty = random.choice([0,1])\n",
    "    activity_length = random.choice([0,1])\n",
    "    action = (prompt, activity_difficulty, activity_length )\n",
    "    state, reward= testPatient.step(action)\n",
    "    total_reward+=reward\n",
    "\n",
    "print('Hours:{} Reward after a month:{}'.format(episode, total_reward))"
   ]
  },
  {
   "cell_type": "markdown",
   "id": "f8345381",
   "metadata": {},
   "source": [
    "# Model Free Approach"
   ]
  },
  {
   "cell_type": "markdown",
   "id": "a65566b2",
   "metadata": {},
   "source": [
    "# Q-learner"
   ]
  },
  {
   "cell_type": "code",
   "execution_count": 56,
   "id": "7aae8491",
   "metadata": {},
   "outputs": [],
   "source": [
    "testPatient2 = Patient(20, True)"
   ]
  },
  {
   "cell_type": "code",
   "execution_count": 57,
   "id": "84707afe",
   "metadata": {},
   "outputs": [
    {
     "data": {
      "text/plain": [
       "dict_keys(['behaviour_threshold', 'has_family', 'week_days', 'hours', 'activity_suggested', 'activity_performed', 'time_of_the_day', 'day_of_the_week', 'motion_activity_list', 'awake_list', 'last_activity_score', 'location', 'valence', 'arousal', 'cognitive_load'])"
      ]
     },
     "execution_count": 57,
     "metadata": {},
     "output_type": "execute_result"
    }
   ],
   "source": [
    "testPatient2.__dict__.keys()"
   ]
  },
  {
   "cell_type": "code",
   "execution_count": 58,
   "id": "166625a8",
   "metadata": {},
   "outputs": [],
   "source": [
    "promptN = 2 # yes/no\n",
    "difficultyN = 2 # easy /dificult\n",
    "lengthN = 2 # short/ long\n",
    "actionN = 6\n",
    "\n",
    "time_of_the_day = 24\n",
    "day_of_the_week = 7\n",
    "activity_score = 2# low/ high\n",
    "location = 2 # home/ other\n",
    "sleeping = 2 # yes/no\n",
    "valence = 2 # positive/negative\n",
    "arousal = 2 # low/high\n",
    "motion = 3 #stationary, walking, driving\n",
    "cognitive_load = 2 # low/ high\n",
    "\n",
    "q_table = np.zeros([time_of_the_day, day_of_the_week,activity_score,location, sleeping,valence,arousal,motion,cognitive_load, actionN ])"
   ]
  },
  {
   "cell_type": "code",
   "execution_count": 59,
   "id": "b6e0a442",
   "metadata": {},
   "outputs": [],
   "source": [
    "def class2action(a):\n",
    "    if a == 0:\n",
    "        return 0,0,0\n",
    "    elif a==1:\n",
    "        return 0,0,1\n",
    "    elif a ==2:\n",
    "        return 0,1,1\n",
    "    elif a == 3:\n",
    "        return 1,1,1\n",
    "    elif a == 4:\n",
    "        return 1,1,0\n",
    "    else:\n",
    "        return 1,0,1"
   ]
  },
  {
   "cell_type": "code",
   "execution_count": 60,
   "id": "b3224079",
   "metadata": {},
   "outputs": [],
   "source": [
    "def action2class(a):\n",
    "    if a == (0,0,0):\n",
    "        return 0\n",
    "    elif a == (0,0,1):\n",
    "        return 1\n",
    "    elif a == (0,1,1):\n",
    "        return 2\n",
    "    elif a == (1,1,1):\n",
    "        return 3\n",
    "    elif a == (1,1,0):\n",
    "        return 4\n",
    "    else:\n",
    "        return 5"
   ]
  },
  {
   "cell_type": "code",
   "execution_count": 61,
   "id": "00602a8e",
   "metadata": {},
   "outputs": [
    {
     "data": {
      "text/plain": [
       "9"
      ]
     },
     "execution_count": 61,
     "metadata": {},
     "output_type": "execute_result"
    }
   ],
   "source": [
    "len(testPatient2._get_current_state())"
   ]
  },
  {
   "cell_type": "code",
   "execution_count": 62,
   "id": "7299a7a2",
   "metadata": {},
   "outputs": [
    {
     "name": "stdout",
     "output_type": "stream",
     "text": [
      "5\n",
      "(5, 6, 1, 1, 0, 1, 0, 1, 0)\n",
      "5\n",
      "(9, 6, 1, 1, 0, 1, 1, 1, 0)\n",
      "4\n",
      "(11, 0, 1, 1, 0, 1, 1, 1, 0)\n",
      "5\n",
      "(6, 5, 1, 1, 0, 1, 0, 1, 0)\n",
      "5\n",
      "(10, 1, 1, 1, 0, 1, 1, 1, 0)\n",
      "4\n",
      "(10, 3, 1, 1, 0, 1, 1, 1, 0)\n",
      "5\n",
      "(11, 4, 0, 1, 0, 1, 1, 1, 0)\n"
     ]
    }
   ],
   "source": [
    "\n",
    "# Hyperparameters\n",
    "alpha = 0.1\n",
    "gamma = 0.5\n",
    "epsilon = 0.5\n",
    "\n",
    "# For plotting metrics\n",
    "all_epochs = []\n",
    "total_rewardQL = []\n",
    "state = testPatient2._get_current_state()\n",
    "days = 31\n",
    "for _ in range(1, days):\n",
    "#     testPatient2.reset()\n",
    "#     state = testPatient2._get_current_state()\n",
    "    \n",
    "    for h in range(1, 24):\n",
    "\n",
    " \n",
    "        if random.uniform(0, 1) < epsilon:\n",
    "                # Explore action space\n",
    "            prompt = random.choice([0,1])\n",
    "            activity_difficulty = random.choice([0,1])\n",
    "            activity_length = random.choice([0,1])\n",
    "            action = (prompt, activity_difficulty, activity_length )\n",
    "        \n",
    "            next_state, reward = testPatient2.step(action) \n",
    "            action = action2class(action)\n",
    "        else:\n",
    "            action  = np.argmax(q_table[state[0],state[1], state[2],state[3], state[4],state[5], state[6],state[7],state[8]]) # Exploit learned values\n",
    "            a = class2action(action)\n",
    "            next_state, reward = testPatient2.step(a) \n",
    "        \n",
    "        \n",
    "        if reward ==10:\n",
    "            print(action)\n",
    "            print(state)\n",
    "        old_value = q_table[state[0],state[1], state[2],state[3], state[4],state[5], state[6],state[7],state[8], action]\n",
    "        next_max = np.max(q_table[next_state[0], next_state[1],next_state[2], next_state[3],next_state[4], next_state[5],\n",
    "                                  next_state[6], next_state[7], next_state[8]])\n",
    "\n",
    "        new_value = (1 - alpha) * old_value + alpha * (reward + gamma * next_max)\n",
    "        q_table[state[0],state[1], state[2],state[3], state[4],state[5], state[6],state[7],state[8], action] = new_value\n",
    "\n",
    "        total_rewardQL.append(reward)\n",
    "        state = next_state\n",
    "   \n",
    "\n",
    "    "
   ]
  },
  {
   "cell_type": "code",
   "execution_count": 64,
   "id": "ae20873c",
   "metadata": {},
   "outputs": [
    {
     "data": {
      "text/plain": [
       "-24.5"
      ]
     },
     "execution_count": 64,
     "metadata": {},
     "output_type": "execute_result"
    }
   ],
   "source": [
    "np.sum(total_rewardQL)"
   ]
  },
  {
   "cell_type": "code",
   "execution_count": 65,
   "id": "c90745e2",
   "metadata": {},
   "outputs": [
    {
     "data": {
      "text/plain": [
       "0"
      ]
     },
     "execution_count": 65,
     "metadata": {},
     "output_type": "execute_result"
    }
   ],
   "source": [
    " #time_of_the_day, day_of_the_week,activity_score,location, sleeping,valence,arousal,motion,cognitive_load, actionN\n",
    "np.argmax(q_table[13,6, 0,0, 0,0, 0,0,0])"
   ]
  },
  {
   "cell_type": "code",
   "execution_count": null,
   "id": "9c6fa6b7",
   "metadata": {},
   "outputs": [],
   "source": []
  }
 ],
 "metadata": {
  "kernelspec": {
   "display_name": "Python 3",
   "language": "python",
   "name": "python3"
  },
  "language_info": {
   "codemirror_mode": {
    "name": "ipython",
    "version": 3
   },
   "file_extension": ".py",
   "mimetype": "text/x-python",
   "name": "python",
   "nbconvert_exporter": "python",
   "pygments_lexer": "ipython3",
   "version": "3.8.8"
  }
 },
 "nbformat": 4,
 "nbformat_minor": 5
}
